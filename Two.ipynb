{
 "cells": [
  {
   "cell_type": "code",
   "execution_count": 2,
   "id": "46dea869",
   "metadata": {},
   "outputs": [],
   "source": [
    "import pandas as pd\n",
    "import spacy"
   ]
  },
  {
   "cell_type": "code",
   "execution_count": 3,
   "id": "c23ea5e1",
   "metadata": {},
   "outputs": [],
   "source": [
    "df_raw = pd.read_csv('../HW/Raw_Skills_Dataset.csv')"
   ]
  },
  {
   "cell_type": "code",
   "execution_count": 4,
   "id": "5d99e2f4",
   "metadata": {},
   "outputs": [
    {
     "data": {
      "text/html": [
       "<div>\n",
       "<style scoped>\n",
       "    .dataframe tbody tr th:only-of-type {\n",
       "        vertical-align: middle;\n",
       "    }\n",
       "\n",
       "    .dataframe tbody tr th {\n",
       "        vertical-align: top;\n",
       "    }\n",
       "\n",
       "    .dataframe thead th {\n",
       "        text-align: right;\n",
       "    }\n",
       "</style>\n",
       "<table border=\"1\" class=\"dataframe\">\n",
       "  <thead>\n",
       "    <tr style=\"text-align: right;\">\n",
       "      <th></th>\n",
       "      <th>RAW DATA</th>\n",
       "    </tr>\n",
       "  </thead>\n",
       "  <tbody>\n",
       "    <tr>\n",
       "      <th>0</th>\n",
       "      <td>What ifs</td>\n",
       "    </tr>\n",
       "    <tr>\n",
       "      <th>1</th>\n",
       "      <td>seniority</td>\n",
       "    </tr>\n",
       "    <tr>\n",
       "      <th>2</th>\n",
       "      <td>familiarity</td>\n",
       "    </tr>\n",
       "    <tr>\n",
       "      <th>3</th>\n",
       "      <td>functionalities</td>\n",
       "    </tr>\n",
       "    <tr>\n",
       "      <th>4</th>\n",
       "      <td>Lambdas</td>\n",
       "    </tr>\n",
       "    <tr>\n",
       "      <th>...</th>\n",
       "      <td>...</td>\n",
       "    </tr>\n",
       "    <tr>\n",
       "      <th>34111</th>\n",
       "      <td>negotiation</td>\n",
       "    </tr>\n",
       "    <tr>\n",
       "      <th>34112</th>\n",
       "      <td>deadlines</td>\n",
       "    </tr>\n",
       "    <tr>\n",
       "      <th>34113</th>\n",
       "      <td>Self-motivated, enthusiastic and strong drive</td>\n",
       "    </tr>\n",
       "    <tr>\n",
       "      <th>34114</th>\n",
       "      <td>negotiation</td>\n",
       "    </tr>\n",
       "    <tr>\n",
       "      <th>34115</th>\n",
       "      <td>deadlines</td>\n",
       "    </tr>\n",
       "  </tbody>\n",
       "</table>\n",
       "<p>34116 rows × 1 columns</p>\n",
       "</div>"
      ],
      "text/plain": [
       "                                            RAW DATA\n",
       "0                                           What ifs\n",
       "1                                          seniority\n",
       "2                                        familiarity\n",
       "3                                    functionalities\n",
       "4                                            Lambdas\n",
       "...                                              ...\n",
       "34111                                    negotiation\n",
       "34112                                      deadlines\n",
       "34113  Self-motivated, enthusiastic and strong drive\n",
       "34114                                    negotiation\n",
       "34115                                      deadlines\n",
       "\n",
       "[34116 rows x 1 columns]"
      ]
     },
     "execution_count": 4,
     "metadata": {},
     "output_type": "execute_result"
    }
   ],
   "source": [
    "df_raw"
   ]
  },
  {
   "cell_type": "markdown",
   "id": "904b2cbd",
   "metadata": {},
   "source": [
    "## Cleaning up requires removal of punctuation marks"
   ]
  },
  {
   "cell_type": "code",
   "execution_count": 5,
   "id": "7585546a",
   "metadata": {},
   "outputs": [],
   "source": [
    "helper = spacy.load('en_core_web_lg')"
   ]
  },
  {
   "cell_type": "code",
   "execution_count": 6,
   "id": "772f5d87",
   "metadata": {},
   "outputs": [],
   "source": [
    "df_raw['Cleaned'] = df_raw['RAW DATA'].apply(lambda text: \" \".join(token.text for token in helper(text) if not token.is_punct))"
   ]
  },
  {
   "cell_type": "code",
   "execution_count": 9,
   "id": "b15ec885",
   "metadata": {},
   "outputs": [
    {
     "data": {
      "text/html": [
       "<div>\n",
       "<style scoped>\n",
       "    .dataframe tbody tr th:only-of-type {\n",
       "        vertical-align: middle;\n",
       "    }\n",
       "\n",
       "    .dataframe tbody tr th {\n",
       "        vertical-align: top;\n",
       "    }\n",
       "\n",
       "    .dataframe thead th {\n",
       "        text-align: right;\n",
       "    }\n",
       "</style>\n",
       "<table border=\"1\" class=\"dataframe\">\n",
       "  <thead>\n",
       "    <tr style=\"text-align: right;\">\n",
       "      <th></th>\n",
       "      <th>RAW DATA</th>\n",
       "      <th>Cleaned</th>\n",
       "    </tr>\n",
       "  </thead>\n",
       "  <tbody>\n",
       "    <tr>\n",
       "      <th>0</th>\n",
       "      <td>What ifs</td>\n",
       "      <td>What ifs</td>\n",
       "    </tr>\n",
       "    <tr>\n",
       "      <th>1</th>\n",
       "      <td>seniority</td>\n",
       "      <td>seniority</td>\n",
       "    </tr>\n",
       "    <tr>\n",
       "      <th>2</th>\n",
       "      <td>familiarity</td>\n",
       "      <td>familiarity</td>\n",
       "    </tr>\n",
       "    <tr>\n",
       "      <th>3</th>\n",
       "      <td>functionalities</td>\n",
       "      <td>functionalities</td>\n",
       "    </tr>\n",
       "    <tr>\n",
       "      <th>4</th>\n",
       "      <td>Lambdas</td>\n",
       "      <td>Lambdas</td>\n",
       "    </tr>\n",
       "  </tbody>\n",
       "</table>\n",
       "</div>"
      ],
      "text/plain": [
       "          RAW DATA          Cleaned\n",
       "0         What ifs         What ifs\n",
       "1        seniority        seniority\n",
       "2      familiarity      familiarity\n",
       "3  functionalities  functionalities\n",
       "4          Lambdas          Lambdas"
      ]
     },
     "execution_count": 9,
     "metadata": {},
     "output_type": "execute_result"
    }
   ],
   "source": [
    "df_raw.head()"
   ]
  },
  {
   "cell_type": "markdown",
   "id": "b477e892",
   "metadata": {},
   "source": [
    "## Since no other knowledge is known, I tried extracting certain data from it, I found that most of the Data in example had an Organization or entity name in them, and these were all Nouns. The experimentation can be found in the other notebook."
   ]
  }
 ],
 "metadata": {
  "kernelspec": {
   "display_name": "Python 3 (ipykernel)",
   "language": "python",
   "name": "python3"
  },
  "language_info": {
   "codemirror_mode": {
    "name": "ipython",
    "version": 3
   },
   "file_extension": ".py",
   "mimetype": "text/x-python",
   "name": "python",
   "nbconvert_exporter": "python",
   "pygments_lexer": "ipython3",
   "version": "3.9.7"
  }
 },
 "nbformat": 4,
 "nbformat_minor": 5
}
